{
 "cells": [
  {
   "cell_type": "code",
   "execution_count": 62,
   "id": "b22e50bc-ba0b-4bbe-8ce3-fa098f9c2ebc",
   "metadata": {},
   "outputs": [
    {
     "name": "stdout",
     "output_type": "stream",
     "text": [
      "Positive\n"
     ]
    }
   ],
   "source": [
    "#1\n",
    "def Int(n):\n",
    "    if n>0:\n",
    "        return \"Positive\"\n",
    "    elif n==0:\n",
    "        return \"Zero\"\n",
    "    else:\n",
    "        return \"Negative\"\n",
    "    \n",
    "print(Int(13))"
   ]
  },
  {
   "cell_type": "code",
   "execution_count": 2,
   "id": "30851580-550a-4fc5-b060-91f3d5965da0",
   "metadata": {},
   "outputs": [
    {
     "name": "stdout",
     "output_type": "stream",
     "text": [
      "You are eligible to vote\n"
     ]
    }
   ],
   "source": [
    "#2\n",
    "def eligibilty(age):\n",
    "    if age<0:\n",
    "        return \"You have enetered invalid age\"\n",
    "    elif age>=18:\n",
    "        return \"You are eligible to vote\"\n",
    "    else:\n",
    "        return \"You are not eligible to vote\"\n",
    "    \n",
    "print(eligibilty(18))"
   ]
  },
  {
   "cell_type": "code",
   "execution_count": 3,
   "id": "00f4f1aa-2268-4a59-9bed-7f0c15cecec4",
   "metadata": {},
   "outputs": [
    {
     "name": "stdout",
     "output_type": "stream",
     "text": [
      "10 is smaller than 20\n"
     ]
    }
   ],
   "source": [
    "#3\n",
    "def find_max(a,b):\n",
    "    if a<b:\n",
    "        return f\"{a} is smaller than {b}\"\n",
    "    elif a>b:\n",
    "        return f\"{a} is greater than {b}\"\n",
    "    else:\n",
    "        return \"both the values are equal\"\n",
    "    \n",
    "print(find_max(10,20))"
   ]
  },
  {
   "cell_type": "code",
   "execution_count": 4,
   "id": "de0f9afd-0d4d-49cb-90ef-9ec0ec7d5715",
   "metadata": {},
   "outputs": [
    {
     "name": "stdout",
     "output_type": "stream",
     "text": [
      "True\n"
     ]
    }
   ],
   "source": [
    "#4\n",
    "def is_leap(year):\n",
    "    if year%100==0 and year%400!=0:\n",
    "        return False\n",
    "    elif year%4==0:\n",
    "        return True\n",
    "    else:\n",
    "        return False\n",
    "    \n",
    "print(is_leap(2004))"
   ]
  },
  {
   "cell_type": "code",
   "execution_count": 5,
   "id": "a16d45b0-35c7-4962-8b00-8c6d8617331b",
   "metadata": {},
   "outputs": [
    {
     "name": "stdout",
     "output_type": "stream",
     "text": [
      "The character is Vowel\n",
      "The character is consonant\n"
     ]
    }
   ],
   "source": [
    "#5\n",
    "def check_char(char):\n",
    "    if char.lower() in \"aeiou\":\n",
    "        return \"The character is Vowel\"\n",
    "    else:\n",
    "        return \"The character is consonant\"\n",
    "\n",
    "print(check_char('a'))\n",
    "print(check_char('s'))"
   ]
  },
  {
   "cell_type": "code",
   "execution_count": 6,
   "id": "5afdea89-d507-420e-a9a4-90aeda40c83f",
   "metadata": {},
   "outputs": [],
   "source": [
    "#6\n",
    "def num_check(num):\n",
    "    if num%2==0:\n",
    "        return \"The given number is even\"\n",
    "    else:\n",
    "        return \"The given number is odd\""
   ]
  },
  {
   "cell_type": "code",
   "execution_count": 7,
   "id": "377b64aa-6111-491c-b8e0-f6966b9e84d0",
   "metadata": {},
   "outputs": [
    {
     "name": "stdout",
     "output_type": "stream",
     "text": [
      "5\n",
      "5\n"
     ]
    }
   ],
   "source": [
    "def absolute(num):\n",
    "    if num>=0:\n",
    "        return num\n",
    "    else:\n",
    "        return -num\n",
    "    \n",
    "print(absolute(5))\n",
    "print(absolute(-5))"
   ]
  },
  {
   "cell_type": "code",
   "execution_count": 8,
   "id": "6ba2074b-2a40-4597-8047-84651a1a8809",
   "metadata": {},
   "outputs": [
    {
     "name": "stdout",
     "output_type": "stream",
     "text": [
      "3 is the largest\n"
     ]
    }
   ],
   "source": [
    "#8\n",
    "def largest_of_three(a,b,c):\n",
    "    if a>=b and a>=c:\n",
    "        return f\"{a} is the largest\"\n",
    "    elif b>=a and b>=c:\n",
    "        return f\"{b} is the largest\"\n",
    "    else:\n",
    "        return f\"{c} is the largest\"\n",
    "    \n",
    "print(largest_of_three(1,2,3))"
   ]
  },
  {
   "cell_type": "code",
   "execution_count": 9,
   "id": "84f2d890-b354-42d8-b528-10143253d4ca",
   "metadata": {},
   "outputs": [
    {
     "name": "stdout",
     "output_type": "stream",
     "text": [
      "True\n",
      "False\n"
     ]
    }
   ],
   "source": [
    "#9\n",
    "def is_pal_string(str):\n",
    "    if str==str[::-1]:\n",
    "        return True\n",
    "    else:\n",
    "        return False\n",
    "\n",
    "print(is_pal_string(\"racecar\"))\n",
    "print(is_pal_string(\"india\"))"
   ]
  },
  {
   "cell_type": "code",
   "execution_count": 10,
   "id": "e27eb3db-97bc-46c5-87b0-73b5ecbe3c8e",
   "metadata": {},
   "outputs": [
    {
     "name": "stdout",
     "output_type": "stream",
     "text": [
      "B\n",
      "D\n",
      "F\n",
      "A\n"
     ]
    }
   ],
   "source": [
    "#10\n",
    "def calculate_grade(score):\n",
    "    if score>=90:\n",
    "        return 'A'\n",
    "    elif score>=80:\n",
    "        return 'B'\n",
    "    elif score>=70:\n",
    "        return 'C'\n",
    "    elif score>=60:\n",
    "        return 'D'\n",
    "    else:\n",
    "        return 'F'\n",
    "\n",
    "print(calculate_grade(87))\n",
    "print(calculate_grade(65))\n",
    "print(calculate_grade(43))\n",
    "print(calculate_grade(100))"
   ]
  },
  {
   "cell_type": "code",
   "execution_count": 11,
   "id": "16a76690-8bca-42fc-8e1e-88c1df846980",
   "metadata": {},
   "outputs": [
    {
     "name": "stdout",
     "output_type": "stream",
     "text": [
      "13 is the largest\n"
     ]
    }
   ],
   "source": [
    "#11\n",
    "def largest_of_three(a,b,c):\n",
    "    if a>=b:\n",
    "        if a>=c:\n",
    "            return f\"{a} is the largest\"\n",
    "        else:\n",
    "            return f\"{c} is the largest\"\n",
    "    else:\n",
    "        return f\"{b} is the largest\"\n",
    "\n",
    "print(largest_of_three(11,13,7))"
   ]
  },
  {
   "cell_type": "code",
   "execution_count": 12,
   "id": "a075f95e-6df0-48ea-a6f3-4897a8475dab",
   "metadata": {},
   "outputs": [
    {
     "name": "stdout",
     "output_type": "stream",
     "text": [
      "The triangle is equilateral.\n",
      "The triangle is isoscelus\n",
      "The triangle is isoscelus\n",
      "The triangle is isoscelus\n"
     ]
    }
   ],
   "source": [
    "#12\n",
    "def triangle_type(a,b,c):\n",
    "    if a==b:\n",
    "        if a==c:\n",
    "            return f\"The triangle is equilateral.\"\n",
    "        else:\n",
    "            return \"The triangle is isoscelus\"\n",
    "    else:\n",
    "        if a==c:\n",
    "            return \"The triangle is isoscelus\"\n",
    "        else:\n",
    "            if b==c:\n",
    "                return \"The triangle is isoscelus\"\n",
    "            else:\n",
    "                return \"The triangle is scalene\"\n",
    "            \n",
    "print(triangle_type(2,2,2))\n",
    "print(triangle_type(3,2,2))\n",
    "print(triangle_type(2,3,2))\n",
    "print(triangle_type(2,2,3))"
   ]
  },
  {
   "cell_type": "code",
   "execution_count": 13,
   "id": "835ca530-cda6-4b9e-8b84-25441d3f9768",
   "metadata": {},
   "outputs": [
    {
     "name": "stdout",
     "output_type": "stream",
     "text": [
      "True\n",
      "True\n",
      "False\n",
      "False\n"
     ]
    }
   ],
   "source": [
    "#13\n",
    "def is_leap(year):\n",
    "    if year%4==0:\n",
    "        if year%400==0:\n",
    "            return True\n",
    "        else:\n",
    "            if year%100==0:\n",
    "                return False\n",
    "            else:\n",
    "                return True\n",
    "    else:\n",
    "        return False\n",
    "            \n",
    "print(is_leap(2004))\n",
    "print(is_leap(2000))\n",
    "print(is_leap(1900))\n",
    "print(is_leap(2035))"
   ]
  },
  {
   "cell_type": "code",
   "execution_count": 14,
   "id": "e8fece93-edad-4761-8bdc-cc8d100316a2",
   "metadata": {},
   "outputs": [
    {
     "name": "stdout",
     "output_type": "stream",
     "text": [
      "poistive\n",
      "negative\n",
      "zero\n"
     ]
    }
   ],
   "source": [
    "#14\n",
    "def num_type(num):\n",
    "    if num>0:\n",
    "        return \"poistive\"\n",
    "    else:\n",
    "        if num<0:\n",
    "            return \"negative\"\n",
    "        else:\n",
    "            return \"zero\"\n",
    "\n",
    "print(num_type(10))\n",
    "print(num_type(-9))\n",
    "print(num_type(0))"
   ]
  },
  {
   "cell_type": "code",
   "execution_count": 15,
   "id": "a5221b44-c874-4061-8bca-497e52469c69",
   "metadata": {},
   "outputs": [
    {
     "name": "stdout",
     "output_type": "stream",
     "text": [
      "True\n",
      "True\n",
      "False\n",
      "False\n"
     ]
    }
   ],
   "source": [
    "#15\n",
    "def is_teenager(num):\n",
    "    if 13<=num<=19:\n",
    "        return True\n",
    "    else:\n",
    "        return False\n",
    "\n",
    "print(is_teenager(13))\n",
    "print(is_teenager(19))\n",
    "print(is_teenager(12))\n",
    "print(is_teenager(20))"
   ]
  },
  {
   "cell_type": "code",
   "execution_count": 16,
   "id": "985730ce-754a-485b-b9dd-631d8c2793c0",
   "metadata": {},
   "outputs": [
    {
     "name": "stdout",
     "output_type": "stream",
     "text": [
      "acute\n",
      "right\n",
      "obtuse\n"
     ]
    }
   ],
   "source": [
    "#16\n",
    "def type_angle(ang):\n",
    "    if 0<=ang<90:\n",
    "        return \"acute\"\n",
    "    else:\n",
    "        if ang==90:\n",
    "            return \"right\"\n",
    "        else:\n",
    "            return \"obtuse\"\n",
    "\n",
    "print(type_angle(36))\n",
    "print(type_angle(90))\n",
    "print(type_angle(135))"
   ]
  },
  {
   "cell_type": "code",
   "execution_count": 17,
   "id": "7b1a8e47-5fbb-4323-93ca-44d7e3f18bb0",
   "metadata": {},
   "outputs": [
    {
     "name": "stdout",
     "output_type": "stream",
     "text": [
      "(1.0, 1.0)\n"
     ]
    }
   ],
   "source": [
    "#17\n",
    "def calculate_roots(a,b,c):\n",
    "    discriminant = b**2-4*a*c\n",
    "    if discriminant>=0:\n",
    "        root1 = (-b+(discriminant**0.5))/(2*a)\n",
    "        root2 = (-b-(discriminant**0.5))/(2*a)\n",
    "        return root1,root2\n",
    "    else:\n",
    "        return \"Complex roots - discriminant is negative.\"\n",
    "\n",
    "print(calculate_roots(1,-2,1))"
   ]
  },
  {
   "cell_type": "code",
   "execution_count": 18,
   "id": "8755d6c5-cb6c-4f9c-905f-87bfeecbffa6",
   "metadata": {},
   "outputs": [
    {
     "name": "stdout",
     "output_type": "stream",
     "text": [
      "Monday\n",
      "Tuesday\n",
      "Wednesday\n",
      "Thursday\n",
      "Friday\n",
      "Saturday\n",
      "Sunday\n"
     ]
    }
   ],
   "source": [
    "#18\n",
    "def day_of_week(num):\n",
    "    if num==1:\n",
    "        return \"Monday\"\n",
    "    else:\n",
    "        if num==2:\n",
    "            return \"Tuesday\"\n",
    "        else:\n",
    "            if num==3:\n",
    "                return \"Wednesday\"\n",
    "            else:\n",
    "                if num==4:\n",
    "                    return \"Thursday\"\n",
    "                else:\n",
    "                    if num==5:\n",
    "                        return \"Friday\"\n",
    "                    else:\n",
    "                        if num==6:\n",
    "                            return \"Saturday\"\n",
    "                        else:\n",
    "                            if num==7:\n",
    "                                return \"Sunday\"\n",
    "\n",
    "print(day_of_week(1))\n",
    "print(day_of_week(2))\n",
    "print(day_of_week(3))\n",
    "print(day_of_week(4))\n",
    "print(day_of_week(5))\n",
    "print(day_of_week(6))\n",
    "print(day_of_week(7))"
   ]
  },
  {
   "cell_type": "code",
   "execution_count": 19,
   "id": "a83966af-2bf8-495e-9186-bb6b3ed404c6",
   "metadata": {},
   "outputs": [
    {
     "name": "stdout",
     "output_type": "stream",
     "text": [
      "True\n",
      "True\n",
      "False\n",
      "False\n"
     ]
    }
   ],
   "source": [
    "#19\n",
    "def is_leap(year):\n",
    "    if year%4==0:\n",
    "        if year%400==0:\n",
    "            return True\n",
    "        else:\n",
    "            if year%100==0:\n",
    "                return False\n",
    "            else:\n",
    "                return True\n",
    "    else:\n",
    "        return False\n",
    "            \n",
    "print(is_leap(2004))\n",
    "print(is_leap(2000))\n",
    "print(is_leap(1900))\n",
    "print(is_leap(2035))"
   ]
  },
  {
   "cell_type": "code",
   "execution_count": 20,
   "id": "8a3d64ba-3b41-4a5b-b7d6-6bc4a26c256d",
   "metadata": {},
   "outputs": [
    {
     "name": "stdout",
     "output_type": "stream",
     "text": [
      "False\n",
      "True\n"
     ]
    }
   ],
   "source": [
    "#20\n",
    "def is_prime(number):\n",
    "    if number<=1:\n",
    "        return False\n",
    "    else:\n",
    "        if number==2:\n",
    "            return True\n",
    "        else:\n",
    "            i=2\n",
    "            while i<=number**0.5:\n",
    "                if number%i==0:\n",
    "                    return False\n",
    "                i+=1\n",
    "            return True\n",
    "\n",
    "print(is_prime(15))\n",
    "print(is_prime(19))"
   ]
  },
  {
   "cell_type": "code",
   "execution_count": 21,
   "id": "d4141e7a-8333-4e67-803f-bf1b992bd625",
   "metadata": {},
   "outputs": [
    {
     "name": "stdout",
     "output_type": "stream",
     "text": [
      "B\n",
      "D\n",
      "F\n",
      "A\n"
     ]
    }
   ],
   "source": [
    "#21\n",
    "def calculate_grade(score):\n",
    "    if score>=90:\n",
    "        return 'A'\n",
    "    elif score>=80:\n",
    "        return 'B'\n",
    "    elif score>=70:\n",
    "        return 'C'\n",
    "    elif score>=60:\n",
    "        return 'D'\n",
    "    else:\n",
    "        return 'F'\n",
    "\n",
    "print(calculate_grade(87))\n",
    "print(calculate_grade(65))\n",
    "print(calculate_grade(43))\n",
    "print(calculate_grade(100))"
   ]
  },
  {
   "cell_type": "code",
   "execution_count": 22,
   "id": "cce209d9-c0d2-4576-9991-9438d3bfdafe",
   "metadata": {},
   "outputs": [
    {
     "name": "stdout",
     "output_type": "stream",
     "text": [
      "The triangle is equilateral.\n",
      "The triangle is isosceles.\n",
      "The triangle is isosceles.\n",
      "The triangle is isosceles.\n"
     ]
    }
   ],
   "source": [
    "#22\n",
    "def triangle_type(a,b,c):\n",
    "    if a==b and b==c:\n",
    "        return \"The triangle is equilateral.\"\n",
    "    elif a==b or a==c or b==c:\n",
    "        return \"The triangle is isosceles.\"\n",
    "    else:\n",
    "        return \"The triangle is scalene.\"\n",
    "\n",
    "# Example usage\n",
    "print(triangle_type(2,2,2))  # Equilateral\n",
    "print(triangle_type(3,2,2))  # Isosceles\n",
    "print(triangle_type(2,3,2))  # Isosceles\n",
    "print(triangle_type(2,2,3))  # Isosceles"
   ]
  },
  {
   "cell_type": "code",
   "execution_count": 23,
   "id": "d9a08479-6e89-48d5-b7a2-8c18837ad637",
   "metadata": {},
   "outputs": [
    {
     "name": "stdout",
     "output_type": "stream",
     "text": [
      "26.663620261276723\n"
     ]
    }
   ],
   "source": [
    "#23\n",
    "def calculate_bmi(weight, height):\n",
    "    if height!=0:\n",
    "        bmi=weight/(height ** 2)\n",
    "        return bmi\n",
    "    else:\n",
    "        return \"Invalid input. Height cannot be zero.\"\n",
    "\n",
    "print(calculate_bmi(84.5,1.7802))"
   ]
  },
  {
   "cell_type": "code",
   "execution_count": 24,
   "id": "86a735d4-76d4-450f-a07a-63bc89f98a2d",
   "metadata": {},
   "outputs": [
    {
     "name": "stdout",
     "output_type": "stream",
     "text": [
      "poistive\n",
      "negative\n",
      "zero\n"
     ]
    }
   ],
   "source": [
    "#24\n",
    "def num_type(num):\n",
    "    if num>0:\n",
    "        return \"poistive\"\n",
    "    elif num<0:\n",
    "        return \"negative\"\n",
    "    else:\n",
    "        return \"zero\"\n",
    "\n",
    "print(num_type(10))\n",
    "print(num_type(-9))\n",
    "print(num_type(0))"
   ]
  },
  {
   "cell_type": "code",
   "execution_count": 25,
   "id": "fc54cf9b-f813-4da9-b563-749c74957f3b",
   "metadata": {},
   "outputs": [
    {
     "name": "stdout",
     "output_type": "stream",
     "text": [
      "Lowercase character\n",
      "Uppercase character\n",
      "Digit\n",
      "Special character\n"
     ]
    }
   ],
   "source": [
    "#25\n",
    "def character_type(char):\n",
    "    if char.isupper():\n",
    "        return \"Uppercase character\"\n",
    "    elif char.islower():\n",
    "        return \"Lowercase character\"\n",
    "    elif char.isdigit():\n",
    "        return \"Digit\"\n",
    "    else:\n",
    "        return \"Special character\"\n",
    "\n",
    "# Example usage\n",
    "\n",
    "print(character_type('a'))\n",
    "print(character_type('Z'))\n",
    "print(character_type('3'))\n",
    "print(character_type('@'))"
   ]
  },
  {
   "cell_type": "code",
   "execution_count": 26,
   "id": "81f6f538-cdf4-4369-9309-b82060663ab0",
   "metadata": {},
   "outputs": [
    {
     "name": "stdout",
     "output_type": "stream",
     "text": [
      "900.9\n",
      "717.25\n",
      "432.0\n"
     ]
    }
   ],
   "source": [
    "def calculate_discounted_price(purchase_amount):\n",
    "    discount_percentage = 0\n",
    "\n",
    "    if purchase_amount>=1000:\n",
    "        discount_percentage=10\n",
    "    elif purchase_amount>=500:\n",
    "        discount_percentage=5\n",
    "    else:\n",
    "        discount_percentage=4\n",
    "\n",
    "    discount_amount=(discount_percentage/100)*purchase_amount\n",
    "    discounted_price=purchase_amount-discount_amount\n",
    "\n",
    "    return discounted_price\n",
    "\n",
    "print(calculate_discounted_price(1001))\n",
    "print(calculate_discounted_price(755))\n",
    "print(calculate_discounted_price(450))"
   ]
  },
  {
   "cell_type": "code",
   "execution_count": 27,
   "id": "7ed5efae-2f18-40a7-ae05-72ce083f9ec2",
   "metadata": {},
   "outputs": [
    {
     "name": "stdout",
     "output_type": "stream",
     "text": [
      "168.0\n",
      "145.5\n",
      "362.5\n",
      "1206.0\n"
     ]
    }
   ],
   "source": [
    "def calculate_electricity_bill(units_consumed):\n",
    "    if units_consumed<=100:\n",
    "        bill=units_consumed*1.50\n",
    "    elif units_consumed<=200:\n",
    "        bill=100*1.50+(units_consumed-100)*2.00\n",
    "    elif units_consumed<=300:\n",
    "        bill=100*1.50+100*2.00+(units_consumed-200)*2.50\n",
    "    else:\n",
    "        bill=100*1.50+100*2.00+100*2.50+(units_consumed-300)*3.00\n",
    "    return bill\n",
    "\n",
    "print(calculate_electricity_bill(109))\n",
    "print(calculate_electricity_bill(97))\n",
    "print(calculate_electricity_bill(205))\n",
    "print(calculate_electricity_bill(502))"
   ]
  },
  {
   "cell_type": "code",
   "execution_count": 28,
   "id": "d2fb2bd0-2934-4a7e-9c8c-f896898c27c2",
   "metadata": {},
   "outputs": [
    {
     "name": "stdout",
     "output_type": "stream",
     "text": [
      "Rectangle\n",
      "Square\n"
     ]
    }
   ],
   "source": [
    "#28\n",
    "def determine_quadrilateral_type(sides, angles):\n",
    "    if len(sides)==len(angles)==4 and all(angle==90 for angle in angles):\n",
    "        if sides[0]==sides[1]==sides[2]==sides[3]:\n",
    "            return \"Square\"\n",
    "        elif sides[0]==sides[2] and sides[1]==sides[3]:\n",
    "            return \"Rectangle\"\n",
    "    elif len(sides)==len(angles)==4 and any(angle==90 for angle in angles):\n",
    "        return \"Trapezoid\"\n",
    "    elif len(sides)==len(angles)==4:\n",
    "        return \"Quadrilateral\"\n",
    "    else:\n",
    "        return \"Invalid input. Please provide four sides and four angles.\"\n",
    "    \n",
    "print(determine_quadrilateral_type([2,3,2,3],[90,90,90,90]))\n",
    "print(determine_quadrilateral_type([3,3,3,3],[90,90,90,90]))"
   ]
  },
  {
   "cell_type": "code",
   "execution_count": 29,
   "id": "f6731027-739c-4d67-b3e8-7d23e90c61bb",
   "metadata": {},
   "outputs": [
    {
     "name": "stdout",
     "output_type": "stream",
     "text": [
      "Winter\n",
      "Spring\n",
      "Autumn\n",
      "Summer\n"
     ]
    }
   ],
   "source": [
    "#29\n",
    "def determine_season(month):\n",
    "    if month in [12, 1, 2]:\n",
    "        return \"Winter\"\n",
    "    elif month in [3, 4, 5]:\n",
    "        return \"Spring\"\n",
    "    elif month in [6, 7, 8]:\n",
    "        return \"Summer\"\n",
    "    elif month in [9, 10, 11]:\n",
    "        return \"Autumn\"\n",
    "    else:\n",
    "        return \"Invalid month. Please enter a month between 1 and 12.\"\n",
    "\n",
    "print(determine_season(1))\n",
    "print(determine_season(4))\n",
    "print(determine_season(11))\n",
    "print(determine_season(7))"
   ]
  },
  {
   "cell_type": "code",
   "execution_count": 30,
   "id": "5606d6fc-675a-4f69-994a-995c218cd618",
   "metadata": {},
   "outputs": [
    {
     "name": "stdout",
     "output_type": "stream",
     "text": [
      "29 The month is the leap month\n",
      "28\n",
      "29 The month is the leap month\n"
     ]
    }
   ],
   "source": [
    "#30\n",
    "def is_leap_year(year):\n",
    "    return (year % 4 == 0 and year % 100 != 0) or (year % 400 == 0)\n",
    "\n",
    "def determine_days_in_month(month, year):\n",
    "    if month in [1, 3, 5, 7, 8, 10, 12]:\n",
    "        return 31\n",
    "    elif month in [4, 6, 9, 11]:\n",
    "        return 30\n",
    "    elif is_leap_year(year) and month==2:\n",
    "        return f\"{29} The month is the leap month\"\n",
    "    elif month==2:\n",
    "        return 28\n",
    "    else:\n",
    "        return \"Invalid input\"\n",
    "    \n",
    "print(determine_days_in_month(2,2004))\n",
    "print(determine_days_in_month(2,1900))\n",
    "print(determine_days_in_month(2,2000))"
   ]
  },
  {
   "cell_type": "code",
   "execution_count": 61,
   "id": "51673cf6-c65b-4aba-a0a5-1f74a05daa1d",
   "metadata": {},
   "outputs": [
    {
     "name": "stdout",
     "output_type": "stream",
     "text": [
      "Positive\n"
     ]
    }
   ],
   "source": [
    "#1\n",
    "def Int(n):\n",
    "    if n>0:\n",
    "        return \"Positive\"\n",
    "    elif n==0:\n",
    "        return \"Zero\"\n",
    "    else:\n",
    "        return \"Negative\"\n",
    "    \n",
    "print(Int(13))"
   ]
  },
  {
   "cell_type": "code",
   "execution_count": 32,
   "id": "73216d74-704d-4860-b053-e2048ea25fb0",
   "metadata": {},
   "outputs": [
    {
     "name": "stdout",
     "output_type": "stream",
     "text": [
      "You are eligible to vote\n"
     ]
    }
   ],
   "source": [
    "#2\n",
    "def eligibilty(age):\n",
    "    if age<0:\n",
    "        return \"You have enetered invalid age\"\n",
    "    elif age>=18:\n",
    "        return \"You are eligible to vote\"\n",
    "    else:\n",
    "        return \"You are not eligible to vote\"\n",
    "    \n",
    "print(eligibilty(18))"
   ]
  },
  {
   "cell_type": "code",
   "execution_count": 33,
   "id": "3e9c1f0d-d041-4be5-89df-e3378c25d447",
   "metadata": {},
   "outputs": [
    {
     "name": "stdout",
     "output_type": "stream",
     "text": [
      "10 is smaller than 20\n"
     ]
    }
   ],
   "source": [
    "#3\n",
    "def find_max(a,b):\n",
    "    if a<b:\n",
    "        return f\"{a} is smaller than {b}\"\n",
    "    elif a>b:\n",
    "        return f\"{a} is greater than {b}\"\n",
    "    else:\n",
    "        return \"both the values are equal\"\n",
    "    \n",
    "print(find_max(10,20))"
   ]
  },
  {
   "cell_type": "code",
   "execution_count": 34,
   "id": "1a52d3dd-92ae-4761-8fa7-e242b6700ec6",
   "metadata": {},
   "outputs": [
    {
     "name": "stdout",
     "output_type": "stream",
     "text": [
      "B\n",
      "D\n",
      "F\n",
      "A\n"
     ]
    }
   ],
   "source": [
    "#4\n",
    "def calculate_grade(score):\n",
    "    if score>=90:\n",
    "        return 'A'\n",
    "    elif score>=80:\n",
    "        return 'B'\n",
    "    elif score>=70:\n",
    "        return 'C'\n",
    "    elif score>=60:\n",
    "        return 'D'\n",
    "    else:\n",
    "        return 'F'\n",
    "\n",
    "print(calculate_grade(87))\n",
    "print(calculate_grade(65))\n",
    "print(calculate_grade(43))\n",
    "print(calculate_grade(100))"
   ]
  },
  {
   "cell_type": "code",
   "execution_count": 35,
   "id": "57c29d41-dac5-4940-ba07-d922d940a10a",
   "metadata": {},
   "outputs": [
    {
     "name": "stdout",
     "output_type": "stream",
     "text": [
      "True\n"
     ]
    }
   ],
   "source": [
    "#5\n",
    "def is_leap(year):\n",
    "    if year%100==0 and year%400!=0:\n",
    "        return False\n",
    "    elif year%4==0:\n",
    "        return True\n",
    "    else:\n",
    "        return False\n",
    "    \n",
    "print(is_leap(2004))"
   ]
  },
  {
   "cell_type": "code",
   "execution_count": 36,
   "id": "487019ed-dad2-4086-ab32-5c4c008db0de",
   "metadata": {},
   "outputs": [
    {
     "name": "stdout",
     "output_type": "stream",
     "text": [
      "The triangle is equilateral.\n",
      "The triangle is isoscelus\n",
      "The triangle is isoscelus\n",
      "The triangle is isoscelus\n"
     ]
    }
   ],
   "source": [
    "#6\n",
    "def triangle_type(a,b,c):\n",
    "    if a==b:\n",
    "        if a==c:\n",
    "            return f\"The triangle is equilateral.\"\n",
    "        else:\n",
    "            return \"The triangle is isoscelus\"\n",
    "    else:\n",
    "        if a==c:\n",
    "            return \"The triangle is isoscelus\"\n",
    "        else:\n",
    "            if b==c:\n",
    "                return \"The triangle is isoscelus\"\n",
    "            else:\n",
    "                return \"The triangle is scalene\"\n",
    "            \n",
    "print(triangle_type(2,2,2))\n",
    "print(triangle_type(3,2,2))\n",
    "print(triangle_type(2,3,2))\n",
    "print(triangle_type(2,2,3))"
   ]
  },
  {
   "cell_type": "code",
   "execution_count": 37,
   "id": "81b87ea9-b54c-4f9d-bbb7-06ac2d06ff46",
   "metadata": {},
   "outputs": [
    {
     "name": "stdout",
     "output_type": "stream",
     "text": [
      "3 is the largest\n"
     ]
    }
   ],
   "source": [
    "#7\n",
    "def largest_of_three(a,b,c):\n",
    "    if a>=b and a>=c:\n",
    "        return f\"{a} is the largest\"\n",
    "    elif b>=a and b>=c:\n",
    "        return f\"{b} is the largest\"\n",
    "    else:\n",
    "        return f\"{c} is the largest\"\n",
    "\n",
    "print(largest_of_three(1,2,3))"
   ]
  },
  {
   "cell_type": "code",
   "execution_count": 38,
   "id": "1e98d098-5630-4572-a556-c7b8b78e65f1",
   "metadata": {},
   "outputs": [
    {
     "name": "stdout",
     "output_type": "stream",
     "text": [
      "The character is Vowel\n",
      "The character is consonant\n"
     ]
    }
   ],
   "source": [
    "#8\n",
    "def check_char(char):\n",
    "    if char.lower() in \"aeiou\":\n",
    "        return \"The character is Vowel\"\n",
    "    else:\n",
    "        return \"The character is consonant\"\n",
    "\n",
    "print(check_char('a'))\n",
    "print(check_char('s'))"
   ]
  },
  {
   "cell_type": "code",
   "execution_count": 39,
   "id": "151ddce7-cad6-4389-b5ea-1ed3605433a3",
   "metadata": {},
   "outputs": [
    {
     "name": "stdout",
     "output_type": "stream",
     "text": [
      "299.0\n",
      "664.05\n",
      "1259.1\n"
     ]
    }
   ],
   "source": [
    "#9\n",
    "def calculate_discounted_price(total_price):\n",
    "    if total_price>=1000:\n",
    "        discount_percentage=10\n",
    "    elif total_price>=500:\n",
    "        discount_percentage=5\n",
    "    else:\n",
    "        discount_percentage=0\n",
    "\n",
    "    discount_amount=(discount_percentage/100)*total_price\n",
    "    discounted_price=total_price-discount_amount\n",
    "\n",
    "    return discounted_price\n",
    "\n",
    "print(calculate_discounted_price(299))\n",
    "print(calculate_discounted_price(699))\n",
    "print(calculate_discounted_price(1399))"
   ]
  },
  {
   "cell_type": "code",
   "execution_count": 40,
   "id": "03a12236-ded0-4524-8fb7-383c71007b3a",
   "metadata": {},
   "outputs": [],
   "source": [
    "#10\n",
    "def num_check(num):\n",
    "    if num%2==0:\n",
    "        return \"The given number is even\"\n",
    "    else:\n",
    "        return \"The given number is odd\""
   ]
  },
  {
   "cell_type": "code",
   "execution_count": 41,
   "id": "5d4ed95d-10e3-4131-a2f8-5fa6722277b6",
   "metadata": {},
   "outputs": [
    {
     "name": "stdout",
     "output_type": "stream",
     "text": [
      "(1.0, 1.0)\n"
     ]
    }
   ],
   "source": [
    "#11\n",
    "def calculate_roots(a,b,c):\n",
    "    discriminant=b**2-4*a*c\n",
    "    if discriminant>=0:\n",
    "        root1=(-b+(discriminant**0.5))/(2*a)\n",
    "        root2=(-b-(discriminant**0.5))/(2*a)\n",
    "        return root1,root2\n",
    "    else:\n",
    "        return \"Complex roots - discriminant is negative.\"\n",
    "\n",
    "print(calculate_roots(1,-2,1))"
   ]
  },
  {
   "cell_type": "code",
   "execution_count": 42,
   "id": "aa095218-cae9-486f-89a3-1ec48c6101fa",
   "metadata": {},
   "outputs": [
    {
     "name": "stdout",
     "output_type": "stream",
     "text": [
      "Monday\n",
      "Tuesday\n",
      "Wednesday\n",
      "Thursday\n",
      "Friday\n",
      "Saturday\n",
      "Sunday\n"
     ]
    }
   ],
   "source": [
    "#12\n",
    "def day_of_week(num):\n",
    "    if num==1:\n",
    "        return \"Monday\"\n",
    "    else:\n",
    "        if num==2:\n",
    "            return \"Tuesday\"\n",
    "        else:\n",
    "            if num==3:\n",
    "                return \"Wednesday\"\n",
    "            else:\n",
    "                if num==4:\n",
    "                    return \"Thursday\"\n",
    "                else:\n",
    "                    if num==5:\n",
    "                        return \"Friday\"\n",
    "                    else:\n",
    "                        if num==6:\n",
    "                            return \"Saturday\"\n",
    "                        else:\n",
    "                            if num==7:\n",
    "                                return \"Sunday\"\n",
    "\n",
    "print(day_of_week(1))\n",
    "print(day_of_week(2))\n",
    "print(day_of_week(3))\n",
    "print(day_of_week(4))\n",
    "print(day_of_week(5))\n",
    "print(day_of_week(6))\n",
    "print(day_of_week(7))"
   ]
  },
  {
   "cell_type": "code",
   "execution_count": 43,
   "id": "4b0f7ef0-5246-425a-8550-5d5103438165",
   "metadata": {},
   "outputs": [
    {
     "name": "stdout",
     "output_type": "stream",
     "text": [
      "720\n"
     ]
    }
   ],
   "source": [
    "#13\n",
    "def fact(num):\n",
    "    if num==1:\n",
    "        return 1\n",
    "    else:\n",
    "        return num*fact(num-1)\n",
    "    \n",
    "print(fact(6))"
   ]
  },
  {
   "cell_type": "code",
   "execution_count": 44,
   "id": "0a461e92-78ca-41f7-8f1c-950b41bb4cfe",
   "metadata": {},
   "outputs": [
    {
     "name": "stdout",
     "output_type": "stream",
     "text": [
      "13 is the largest\n"
     ]
    }
   ],
   "source": [
    "#14\n",
    "def largest_of_three(a,b,c):\n",
    "    if a>=b:\n",
    "        if a>=c:\n",
    "            return f\"{a} is the largest\"\n",
    "        else:\n",
    "            return f\"{c} is the largest\"\n",
    "    else:\n",
    "        return f\"{b} is the largest\"\n",
    "\n",
    "print(largest_of_three(11,13,7))"
   ]
  },
  {
   "cell_type": "code",
   "execution_count": 63,
   "id": "00e1c493-dd43-4814-a0fd-9da3f64b299c",
   "metadata": {},
   "outputs": [
    {
     "name": "stdin",
     "output_type": "stream",
     "text": [
      "Enter your initial balance:  1000000\n"
     ]
    },
    {
     "name": "stdout",
     "output_type": "stream",
     "text": [
      "\n",
      "ATM Menu:\n",
      "1. Display Balance\n",
      "2. Deposit\n",
      "3. Withdraw\n",
      "4. Exit\n"
     ]
    },
    {
     "name": "stdin",
     "output_type": "stream",
     "text": [
      "Enter your choice (1-4):  2\n",
      "Enter the deposit amount:  10000\n"
     ]
    },
    {
     "name": "stdout",
     "output_type": "stream",
     "text": [
      "Deposit successful. Your new balance is: $1010000.00\n",
      "\n",
      "ATM Menu:\n",
      "1. Display Balance\n",
      "2. Deposit\n",
      "3. Withdraw\n",
      "4. Exit\n"
     ]
    },
    {
     "name": "stdin",
     "output_type": "stream",
     "text": [
      "Enter your choice (1-4):  4\n"
     ]
    },
    {
     "name": "stdout",
     "output_type": "stream",
     "text": [
      "Exiting ATM. Thank you!\n"
     ]
    }
   ],
   "source": [
    "#15\n",
    "def display_balance(balance):\n",
    "    print(f\"Your current balance is: ${balance:.2f}\")\n",
    "\n",
    "def deposit(balance,amount):\n",
    "    new_balance = balance+amount\n",
    "    print(f\"Deposit successful. Your new balance is: ${new_balance:.2f}\")\n",
    "    return new_balance\n",
    "\n",
    "def withdraw(balance,amount):\n",
    "    if amount<=balance:\n",
    "        new_balance=balance-amount\n",
    "        print(f\"Withdrawal successful. Your new balance is: ${new_balance:.2f}\")\n",
    "        return new_balance\n",
    "    else:\n",
    "        print(\"Insufficient funds. Withdrawal failed.\")\n",
    "        return balance\n",
    "\n",
    "def main():\n",
    "    balance=float(input(\"Enter your initial balance: \"))\n",
    "\n",
    "    while True:\n",
    "        print(\"\\nATM Menu:\")\n",
    "        print(\"1. Display Balance\")\n",
    "        print(\"2. Deposit\")\n",
    "        print(\"3. Withdraw\")\n",
    "        print(\"4. Exit\")\n",
    "\n",
    "        choice=input(\"Enter your choice (1-4): \")\n",
    "\n",
    "        if choice==\"1\":\n",
    "            display_balance(balance)\n",
    "        elif choice==\"2\":\n",
    "            deposit_amount=float(input(\"Enter the deposit amount: \"))\n",
    "            balance=deposit(balance,deposit_amount)\n",
    "        elif choice==\"3\":\n",
    "            withdrawal_amount=float(input(\"Enter the withdrawal amount: \"))\n",
    "            balance=withdraw(balance, withdrawal_amount)\n",
    "        elif choice==\"4\":\n",
    "            print(\"Exiting ATM. Thank you!\")\n",
    "            break\n",
    "        else:\n",
    "            print(\"Invalid choice. Please enter a number between 1 and 4.\")\n",
    "\n",
    "main()"
   ]
  },
  {
   "cell_type": "code",
   "execution_count": 45,
   "id": "6c5d37e2-f245-4748-a520-3ef0b3a68e90",
   "metadata": {},
   "outputs": [
    {
     "name": "stdout",
     "output_type": "stream",
     "text": [
      "True\n",
      "False\n"
     ]
    }
   ],
   "source": [
    "#16\n",
    "def is_pal_string(str):\n",
    "    if str==str[::-1]:\n",
    "        return True\n",
    "    else:\n",
    "        return False\n",
    "\n",
    "print(is_pal_string(\"racecar\"))\n",
    "print(is_pal_string(\"india\"))"
   ]
  },
  {
   "cell_type": "code",
   "execution_count": 46,
   "id": "af11be46-f98f-4ba1-a7c4-ad497f3f4d77",
   "metadata": {},
   "outputs": [
    {
     "name": "stdout",
     "output_type": "stream",
     "text": [
      "5.5\n"
     ]
    }
   ],
   "source": [
    "#17\n",
    "def aver_exclu_min_max(arr):\n",
    "    arr.sort()\n",
    "    min_arr=arr[0]\n",
    "    max_arr=arr[-1]\n",
    "    new_arr=[]\n",
    "    for i in arr:\n",
    "        if i!=min_arr and i!=max_arr:\n",
    "            new_arr.append(i)\n",
    "    sum=0\n",
    "    for i in new_arr:\n",
    "        sum=sum+i\n",
    "    avg=sum/len(new_arr)\n",
    "    return avg\n",
    "\n",
    "print(aver_exclu_min_max([3,3,5,6,45,3,45,3]))"
   ]
  },
  {
   "cell_type": "code",
   "execution_count": 47,
   "id": "1a5c5714-db10-4937-98cf-ad1c7e51a3b5",
   "metadata": {},
   "outputs": [
    {
     "name": "stdout",
     "output_type": "stream",
     "text": [
      "91.4\n"
     ]
    }
   ],
   "source": [
    "#18\n",
    "def celsius_to_fahrenheit(celsius):\n",
    "    fahrenheit=(celsius*9/5)+32\n",
    "    return fahrenheit\n",
    "\n",
    "celsius_input=33\n",
    "\n",
    "print(celsius_to_fahrenheit(celsius_input))\n"
   ]
  },
  {
   "cell_type": "code",
   "execution_count": 48,
   "id": "f66cf4ad-9a1f-4eca-8838-f8900010fb84",
   "metadata": {},
   "outputs": [
    {
     "name": "stdout",
     "output_type": "stream",
     "text": [
      "14.0\n"
     ]
    }
   ],
   "source": [
    "#19\n",
    "def perform_operation(num1, num2, operation):\n",
    "    if operation=='+':\n",
    "        result=num1 + num2\n",
    "        return result\n",
    "    elif operation=='-':\n",
    "        result=num1-num2\n",
    "        return result\n",
    "    elif operation=='x':\n",
    "        result=num1*num2\n",
    "        return result\n",
    "    elif operation=='/':\n",
    "        if num2!=0:\n",
    "            result=num1/num2\n",
    "            return result\n",
    "        else:\n",
    "            return \"Cannot divide by zero.\"\n",
    "    else:\n",
    "        return \"Invalid operation. Please choose '+','-','x',or '/'.\"\n",
    "\n",
    "num1=4.2\n",
    "num2=9.8\n",
    "operation=\"+\"\n",
    "\n",
    "print(perform_operation(num1,num2,operation))"
   ]
  },
  {
   "cell_type": "code",
   "execution_count": 49,
   "id": "91b7d30a-536e-43ad-816c-adacd0b93e90",
   "metadata": {},
   "outputs": [
    {
     "name": "stdout",
     "output_type": "stream",
     "text": [
      "587000.0\n"
     ]
    }
   ],
   "source": [
    "#21\n",
    "def calculate_income_tax(annual_income):\n",
    "    if annual_income>=0:\n",
    "        brackets = [0,10000,40000,80000,float('inf')]\n",
    "        rates = [0,0.1,0.2,0.3]\n",
    "        tax = 0\n",
    "        for i in range(1,len(brackets)):\n",
    "            if annual_income>brackets[i]:\n",
    "                tax+=(brackets[i]-brackets[i-1])*rates[i-1]\n",
    "            else:\n",
    "                tax+=(annual_income-brackets[i-1])*rates[i - 1]\n",
    "                break\n",
    "        return tax\n",
    "    else:\n",
    "        return \"Invalid input. Income should be non-negative.\"\n",
    "    \n",
    "print(calculate_income_tax(2000000))"
   ]
  },
  {
   "cell_type": "code",
   "execution_count": 50,
   "id": "2a0b23cf-82de-4326-8325-a31f11bae611",
   "metadata": {},
   "outputs": [
    {
     "name": "stdout",
     "output_type": "stream",
     "text": [
      "You chose: rock\n",
      "Computer chose: rock\n",
      "It's a tie!\n"
     ]
    }
   ],
   "source": [
    "#22\n",
    "import random\n",
    "def rock_paper_scissors(user_choice):\n",
    "    choices = [\"rock\",\"paper\",\"scissors\"]\n",
    "    computer_choice=random.choice(choices)\n",
    "    print(f\"You chose: {user_choice}\")\n",
    "    print(f\"Computer chose: {computer_choice}\")\n",
    "    if user_choice==computer_choice:\n",
    "        return \"It's a tie!\"\n",
    "    elif (user_choice == \"rock\" and computer_choice==\"scissors\") or \\\n",
    "         (user_choice == \"paper\" and computer_choice == \"rock\") or \\\n",
    "         (user_choice == \"scissors\" and computer_choice == \"paper\"):\n",
    "        return \"You win!\"\n",
    "    else:\n",
    "        return \"Computer wins!\"\n",
    "\n",
    "user_input=\"Rock\".lower()\n",
    "print(rock_paper_scissors(user_input))"
   ]
  },
  {
   "cell_type": "code",
   "execution_count": 51,
   "id": "c8805d9d-c601-4f1c-b16d-03dc83f412da",
   "metadata": {},
   "outputs": [
    {
     "name": "stdout",
     "output_type": "stream",
     "text": [
      "27[[::6F]Z\n"
     ]
    }
   ],
   "source": [
    "#23\n",
    "import random\n",
    "import string\n",
    "\n",
    "def generate_password(length,include_lowercase,include_uppercase,include_digits,include_symbols):\n",
    "    characters=\"\"\n",
    "    if include_lowercase:\n",
    "        characters+=string.ascii_lowercase\n",
    "    if include_uppercase:\n",
    "        characters+=string.ascii_uppercase\n",
    "    if include_digits:\n",
    "        characters+=string.digits\n",
    "    if include_symbols:\n",
    "        characters+=string.punctuation\n",
    "    if not characters:\n",
    "        return \"Invalid preferences. Please include at least one character type.\"\n",
    "    generated_password=''.join(random.choice(characters) for i in range(length))\n",
    "    return generated_password\n",
    "\n",
    "print(generate_password(10,'yes','yes','yes','yes'))"
   ]
  },
  {
   "cell_type": "code",
   "execution_count": 52,
   "id": "faadb891-6c60-44ed-b624-071e3ba19643",
   "metadata": {},
   "outputs": [
    {
     "name": "stdout",
     "output_type": "stream",
     "text": [
      "The solution is x=2.0\n"
     ]
    }
   ],
   "source": [
    "#25\n",
    "def solve_linear_equation(a,b):\n",
    "    if a==0:\n",
    "        if b==0:\n",
    "            return \"Infinite solutions\"\n",
    "        else:\n",
    "            return \"No solution (contradiction)\"\n",
    "    else:\n",
    "        x=-b/a\n",
    "        return f\"The solution is x={x}\"\n",
    "\n",
    "a=10\n",
    "b=-20\n",
    "\n",
    "print(solve_linear_equation(a,b))"
   ]
  },
  {
   "cell_type": "code",
   "execution_count": 53,
   "id": "4214aba7-a54a-4b98-8cdd-841fb71544f1",
   "metadata": {},
   "outputs": [
    {
     "name": "stdout",
     "output_type": "stream",
     "text": [
      "True\n"
     ]
    }
   ],
   "source": [
    "#27\n",
    "def is_leap(year):\n",
    "    if year%100==0 and year%400!=0:\n",
    "        return False\n",
    "    elif year%4==0:\n",
    "        return True\n",
    "    else:\n",
    "        return False\n",
    "    \n",
    "print(is_leap(2004))"
   ]
  },
  {
   "cell_type": "code",
   "execution_count": 54,
   "id": "6a3d4aa6-944b-4e32-b274-d235ddcceaa7",
   "metadata": {},
   "outputs": [
    {
     "name": "stdout",
     "output_type": "stream",
     "text": [
      "(23, 36, 43)\n"
     ]
    }
   ],
   "source": [
    "#28\n",
    "def sort_numbers(num1,num2,num3):\n",
    "    if num1<=num2 and num1<=num3:\n",
    "        smallest=num1\n",
    "        if num2<=num3:\n",
    "            middle=num2\n",
    "            largest=num3\n",
    "        else:\n",
    "            middle=num3\n",
    "            largest=num2\n",
    "    elif num2<=num1 and num2<=num3:\n",
    "        smallest=num2\n",
    "        if num1<=num3:\n",
    "            middle=num1\n",
    "            largest=num3\n",
    "        else:\n",
    "            middle=num3\n",
    "            largest=num1\n",
    "    else:\n",
    "        smallest=num3\n",
    "        if num1<=num2:\n",
    "            middle=num1\n",
    "            largest=num2\n",
    "        else:\n",
    "            middle=num2\n",
    "            largest=num1\n",
    "\n",
    "    return smallest,middle,largest\n",
    "num1=23\n",
    "num2=43\n",
    "num3=36\n",
    "print(sort_numbers(num1,num2,num3))\n"
   ]
  },
  {
   "cell_type": "code",
   "execution_count": 55,
   "id": "11984716-ad7b-41ac-94dd-97aa78f18647",
   "metadata": {},
   "outputs": [
    {
     "name": "stdout",
     "output_type": "stream",
     "text": [
      "(1.0, 1.0)\n"
     ]
    }
   ],
   "source": [
    "#29\n",
    "def calculate_roots(a,b,c):\n",
    "    discriminant=b**2-4*a*c\n",
    "    if discriminant>=0:\n",
    "        root1=(-b+(discriminant**0.5))/(2*a)\n",
    "        root2=(-b-(discriminant**0.5))/(2*a)\n",
    "        return root1,root2\n",
    "    else:\n",
    "        return \"Complex roots-discriminant is negative.\"\n",
    "\n",
    "print(calculate_roots(1,-2,1))"
   ]
  },
  {
   "cell_type": "code",
   "execution_count": 56,
   "id": "5a7d5aa4-e473-4a15-9e41-747a563ab3e4",
   "metadata": {},
   "outputs": [
    {
     "name": "stdout",
     "output_type": "stream",
     "text": [
      "Your BMI is:26.80-You are obese\n"
     ]
    }
   ],
   "source": [
    "#30\n",
    "def calculate_bmi(weight, height):\n",
    "    if height!=0:\n",
    "        bmi=weight/(height ** 2)\n",
    "        if bmi>=18 and bmi<=25:\n",
    "            return bmi,\"You are Normal not too thin and not too obese\"\n",
    "        elif bmi>25:\n",
    "            return bmi,\"You are obese\"\n",
    "        else:\n",
    "            return bmi,\"You are too thin\"\n",
    "    else:\n",
    "        return \"Invalid input. Height cannot be zero.\"\n",
    "\n",
    "\n",
    "weight=85.5\n",
    "height=1.786\n",
    "result=calculate_bmi(weight, height)\n",
    "print(f\"Your BMI is:{result[0]:.2f}-{result[1]}\")"
   ]
  },
  {
   "cell_type": "code",
   "execution_count": 57,
   "id": "2b4137f7-1285-4ea9-85ae-a6387c5d8314",
   "metadata": {},
   "outputs": [
    {
     "name": "stdout",
     "output_type": "stream",
     "text": [
      "Password is valid.\n"
     ]
    }
   ],
   "source": [
    "#31\n",
    "import string\n",
    "def is_special(char):\n",
    "    return char in string.punctuation\n",
    "\n",
    "def validate_password(password):\n",
    "    if len(password)<8:\n",
    "        return \"Password must be at least 8 characters long.\"\n",
    "    if not any(char.isupper() for char in password):\n",
    "        return \"Password must contain at least one uppercase letter.\"\n",
    "    if not any(char.islower() for char in password):\n",
    "        return \"Password must contain at least one lowercase letter.\"\n",
    "    if not any(char.isdigit() for char in password):\n",
    "        return \"Password must contain at least one digit.\"\n",
    "    if not any(is_special(char) for char in password):\n",
    "        return \"Password must contain at least one special character.\"\n",
    "    return \"Password is valid.\"\n",
    "\n",
    "result=validate_password(\"P@ssw0rd\")\n",
    "print(result)"
   ]
  },
  {
   "cell_type": "code",
   "execution_count": 64,
   "id": "a921ca30-477f-4c4d-b5ad-f9fc5dfef87f",
   "metadata": {},
   "outputs": [
    {
     "name": "stdout",
     "output_type": "stream",
     "text": [
      "\n",
      "Enter elements for the first matrix:\n"
     ]
    },
    {
     "name": "stdin",
     "output_type": "stream",
     "text": [
      "Enter element at position (1,1):  1\n",
      "Enter element at position (1,2):  2\n",
      "Enter element at position (1,3):  3\n",
      "Enter element at position (2,1):  4\n",
      "Enter element at position (2,2):  5\n",
      "Enter element at position (2,3):  6\n",
      "Enter element at position (3,1):  7\n",
      "Enter element at position (3,2):  8\n",
      "Enter element at position (3,3):  9\n"
     ]
    },
    {
     "name": "stdout",
     "output_type": "stream",
     "text": [
      "\n",
      "Enter elements for the second matrix:\n"
     ]
    },
    {
     "name": "stdin",
     "output_type": "stream",
     "text": [
      "Enter element at position (1,1):  9\n",
      "Enter element at position (1,2):  8\n",
      "Enter element at position (1,3):  7\n",
      "Enter element at position (2,1):  6\n",
      "Enter element at position (2,2):  5\n",
      "Enter element at position (2,3):  4\n",
      "Enter element at position (3,1):  3\n",
      "Enter element at position (3,2):  2\n",
      "Enter element at position (3,3):  1\n"
     ]
    },
    {
     "name": "stdout",
     "output_type": "stream",
     "text": [
      "\n",
      "Matrix Addition Result:\n",
      "[10.0, 10.0, 10.0]\n",
      "[10.0, 10.0, 10.0]\n",
      "[10.0, 10.0, 10.0]\n",
      "\n",
      "Matrix Subtraction Result:\n",
      "[-8.0, -6.0, -4.0]\n",
      "[-2.0, 0.0, 2.0]\n",
      "[4.0, 6.0, 8.0]\n"
     ]
    }
   ],
   "source": [
    "#32\n",
    "def matrix_addition(matrix1,matrix2):\n",
    "    result=[]\n",
    "    for i in range(len(matrix1)):\n",
    "        row=[]\n",
    "        for j in range(len(matrix1[0])):\n",
    "            row.append(matrix1[i][j]+matrix2[i][j])\n",
    "        result.append(row)\n",
    "    return result\n",
    "\n",
    "def matrix_subtraction(matrix1,matrix2):\n",
    "    result=[]\n",
    "    for i in range(len(matrix1)):\n",
    "        row=[]\n",
    "        for j in range(len(matrix1[0])):\n",
    "            row.append(matrix1[i][j]-matrix2[i][j])\n",
    "        result.append(row)\n",
    "    return result\n",
    "\n",
    "def input_matrix(rows,columns):\n",
    "    matrix=[]\n",
    "    for i in range(rows):\n",
    "        row=[]\n",
    "        for j in range(columns):\n",
    "            element=float(input(f\"Enter element at position ({i+1},{j+1}): \"))\n",
    "            row.append(element)\n",
    "        matrix.append(row)\n",
    "    return matrix\n",
    "\n",
    "def display_matrix(matrix):\n",
    "    for row in matrix:\n",
    "        print(row)\n",
    "\n",
    "rows=3\n",
    "columns=3\n",
    "print(\"\\nEnter elements for the first matrix:\")\n",
    "matrix1 = input_matrix(rows, columns)\n",
    "\n",
    "print(\"\\nEnter elements for the second matrix:\")\n",
    "matrix2 = input_matrix(rows, columns)\n",
    "\n",
    "print(\"\\nMatrix Addition Result:\")\n",
    "addition_result = matrix_addition(matrix1, matrix2)\n",
    "display_matrix(addition_result)\n",
    "\n",
    "print(\"\\nMatrix Subtraction Result:\")\n",
    "subtraction_result = matrix_subtraction(matrix1, matrix2)\n",
    "display_matrix(subtraction_result)"
   ]
  },
  {
   "cell_type": "code",
   "execution_count": 58,
   "id": "74a0189d-df21-4d09-91dd-37bb8b83ebe0",
   "metadata": {},
   "outputs": [
    {
     "name": "stdout",
     "output_type": "stream",
     "text": [
      "The greatest common divisor (GCD) of 6 and 8 is: 2\n"
     ]
    }
   ],
   "source": [
    "#33\n",
    "def gcd_euclidean(a,b):\n",
    "    while b:\n",
    "        a,b=b,a%b\n",
    "    return a\n",
    "\n",
    "num1=6\n",
    "num2=8\n",
    "result=gcd_euclidean(num1,num2)\n",
    "print(f\"The greatest common divisor (GCD) of {num1} and {num2} is: {result}\")\n"
   ]
  },
  {
   "cell_type": "code",
   "execution_count": 67,
   "id": "67ad8ef5-eef5-4663-a5fa-56fc23d60d33",
   "metadata": {},
   "outputs": [
    {
     "name": "stdout",
     "output_type": "stream",
     "text": [
      "\n",
      "Enter elements for the first matrix:\n"
     ]
    },
    {
     "name": "stdin",
     "output_type": "stream",
     "text": [
      "Enter element at position (1,1):  1\n",
      "Enter element at position (1,2):  2\n",
      "Enter element at position (1,3):  3\n",
      "Enter element at position (2,1):  4\n",
      "Enter element at position (2,2):  5\n",
      "Enter element at position (2,3):  6\n",
      "Enter element at position (3,1):  7\n",
      "Enter element at position (3,2):  8\n",
      "Enter element at position (3,3):  9\n"
     ]
    },
    {
     "name": "stdout",
     "output_type": "stream",
     "text": [
      "\n",
      "Enter elements for the second matrix:\n"
     ]
    },
    {
     "name": "stdin",
     "output_type": "stream",
     "text": [
      "Enter element at position (1,1):  9\n",
      "Enter element at position (1,2):  8\n",
      "Enter element at position (1,3):  7\n",
      "Enter element at position (2,1):  6\n",
      "Enter element at position (2,2):  5\n",
      "Enter element at position (2,3):  4\n",
      "Enter element at position (3,1):  3\n",
      "Enter element at position (3,2):  2\n",
      "Enter element at position (3,3):  1\n"
     ]
    },
    {
     "name": "stdout",
     "output_type": "stream",
     "text": [
      "[30.0, 24.0, 18.0]\n",
      "[84.0, 69.0, 54.0]\n",
      "[138.0, 114.0, 90.0]\n",
      "None\n"
     ]
    }
   ],
   "source": [
    "#34\n",
    "def input_matrix(rows,columns):\n",
    "    matrix=[]\n",
    "    for i in range(rows):\n",
    "        row=[]\n",
    "        for j in range(columns):\n",
    "            element=float(input(f\"Enter element at position ({i+1},{j+1}): \"))\n",
    "            row.append(element)\n",
    "        matrix.append(row)\n",
    "    return matrix\n",
    "\n",
    "def display_matrix(matrix):\n",
    "    for row in matrix:\n",
    "        print(row)\n",
    "\n",
    "def matrix_multiplication(matrix1,matrix2):\n",
    "    # Check if matrices can be multiplied\n",
    "    if len(matrix1[0])!=len(matrix2):\n",
    "        raise ValueError(\"Matrices cannot be multiplied. Number of columns in the first matrix must be equal to the number of rows in the second matrix.\")\n",
    "\n",
    "    result=[]\n",
    "    for i in range(len(matrix1)):\n",
    "        row=[]\n",
    "        for j in range(len(matrix2[0])):\n",
    "            element=0\n",
    "            for k in range(len(matrix2)):\n",
    "                element+=matrix1[i][k]*matrix2[k][j]\n",
    "            row.append(element)\n",
    "        result.append(row)\n",
    "    return result\n",
    "\n",
    "# Input dimensions for the first matrix\n",
    "rows1=3\n",
    "cols1=3\n",
    "\n",
    "# Input dimensions for the second matrix\n",
    "rows2 =3\n",
    "cols2 =3\n",
    "\n",
    "# Input elements for the first matrix\n",
    "print(\"\\nEnter elements for the first matrix:\")\n",
    "matrix1=input_matrix(rows1, cols1)\n",
    "\n",
    "# Input elements for the second matrix\n",
    "print(\"\\nEnter elements for the second matrix:\")\n",
    "matrix2=input_matrix(rows2, cols2)\n",
    "\n",
    "matrix_result=matrix_multiplication(matrix1,matrix2)\n",
    "print(display_matrix(matrix_result))"
   ]
  },
  {
   "cell_type": "code",
   "execution_count": 59,
   "id": "5a71ed94-cae3-4cf3-b41e-69d5b1155579",
   "metadata": {},
   "outputs": [
    {
     "name": "stdout",
     "output_type": "stream",
     "text": [
      "Fibonacci Sequence up to the 10 term(s):\n",
      "[0, 1, 1, 2, 3, 5, 8, 13, 21, 34]\n"
     ]
    }
   ],
   "source": [
    "#36\n",
    "def generate_fibonacci(n):\n",
    "    fibonacci_sequence=[0,1]\n",
    "\n",
    "    for i in range(2,n):\n",
    "        next_fibonacci=fibonacci_sequence[-1]+fibonacci_sequence[-2]\n",
    "        fibonacci_sequence.append(next_fibonacci)\n",
    "    return fibonacci_sequence\n",
    "\n",
    "num_terms=10\n",
    "fibonacci_sequence = generate_fibonacci(num_terms)\n",
    "print(\"Fibonacci Sequence up to the\",num_terms,\"term(s):\")\n",
    "print(fibonacci_sequence)"
   ]
  },
  {
   "cell_type": "code",
   "execution_count": 60,
   "id": "5f56b019-65ba-4935-88fd-4bedc2b090f0",
   "metadata": {},
   "outputs": [
    {
     "name": "stdout",
     "output_type": "stream",
     "text": [
      "The 10-th term of the Fibonacci sequence is: 55\n"
     ]
    }
   ],
   "source": [
    "#37\n",
    "def fibonacci_memo(n,memo={}):\n",
    "    if n<=1:\n",
    "        return n\n",
    "    if n not in memo:\n",
    "        memo[n]=fibonacci_memo(n-1,memo)+fibonacci_memo(n-2,memo)\n",
    "    return memo[n]\n",
    "\n",
    "n=10\n",
    "result = fibonacci_memo(n)\n",
    "print(f\"The {n}-th term of the Fibonacci sequence is: {result}\")"
   ]
  }
 ],
 "metadata": {
  "kernelspec": {
   "display_name": "Python 3 (ipykernel)",
   "language": "python",
   "name": "python3"
  },
  "language_info": {
   "codemirror_mode": {
    "name": "ipython",
    "version": 3
   },
   "file_extension": ".py",
   "mimetype": "text/x-python",
   "name": "python",
   "nbconvert_exporter": "python",
   "pygments_lexer": "ipython3",
   "version": "3.10.8"
  }
 },
 "nbformat": 4,
 "nbformat_minor": 5
}
