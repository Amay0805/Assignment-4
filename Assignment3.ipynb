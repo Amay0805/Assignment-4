{
 "cells": [
  {
   "cell_type": "code",
   "execution_count": null,
   "id": "e2c6cd05-f561-4637-853a-8d65e1599aca",
   "metadata": {},
   "outputs": [],
   "source": [
    "#1\n",
    "for i in range(1,11):\n",
    "    print(i)"
   ]
  },
  {
   "cell_type": "code",
   "execution_count": null,
   "id": "4630e406-510f-42e7-8175-5c1740d8a7da",
   "metadata": {},
   "outputs": [],
   "source": [
    "#2\n",
    "list=[1,2,3,4,5]\n",
    "sum=0\n",
    "for i in list:\n",
    "    sum+=i\n",
    "print(sum)"
   ]
  },
  {
   "cell_type": "code",
   "execution_count": null,
   "id": "90ab92c3-072a-47ad-907e-bddfc4d57616",
   "metadata": {},
   "outputs": [],
   "source": [
    "#3\n",
    "list=['a','b','c','d','e']\n",
    "list.reverse()\n",
    "for i in list:\n",
    "    print(i)"
   ]
  },
  {
   "cell_type": "code",
   "execution_count": null,
   "id": "8b3dbc0a-4afb-4387-a903-94e00072fec9",
   "metadata": {},
   "outputs": [],
   "source": [
    "#4\n",
    "def factorial(n):\n",
    "    fact=1\n",
    "    for i in range(1,n+1):\n",
    "        fact*=i\n",
    "    return fact\n",
    "print(factorial(6))"
   ]
  },
  {
   "cell_type": "code",
   "execution_count": null,
   "id": "35479c7a-ec1e-4725-a2a4-e38e628cf9d8",
   "metadata": {},
   "outputs": [],
   "source": [
    "#5\n",
    "n=int(input(\"Enter the number whose multiplication table you want to print:\"))\n",
    "for i in range(1,11):\n",
    "    print(f\"{i}){n}x{i}={n*i}\")"
   ]
  },
  {
   "cell_type": "code",
   "execution_count": null,
   "id": "1991d259-3b55-4b2c-9185-0a563a8c82c7",
   "metadata": {},
   "outputs": [],
   "source": [
    "#6\n",
    "list=[1,2,3,4,5,6,7,8,9,10]\n",
    "c1=0\n",
    "c2=0\n",
    "for i in list:\n",
    "    if i%2==0:\n",
    "        c1+=1\n",
    "    else:\n",
    "        c2+=1\n",
    "print(f\"The count of even numbers in the list is: {c1}\")\n",
    "print(f\"The count of odd numbers in the list is: {c2}\")"
   ]
  },
  {
   "cell_type": "code",
   "execution_count": null,
   "id": "2b6ddfeb-8026-4a36-8489-b5bceb66c0e2",
   "metadata": {},
   "outputs": [],
   "source": [
    "#7\n",
    "for i in range(1,6):\n",
    "    print(i*i)"
   ]
  },
  {
   "cell_type": "code",
   "execution_count": null,
   "id": "c0bde95e-c5eb-424d-b756-9f64325aa17a",
   "metadata": {},
   "outputs": [],
   "source": [
    "#8\n",
    "str=input(\"Enter a string:\")\n",
    "count=0\n",
    "for i in str:\n",
    "    count+=1\n",
    "print(f\"The length of the string is: {count}\")"
   ]
  },
  {
   "cell_type": "code",
   "execution_count": null,
   "id": "bb1aa503-aca6-44e4-9dc3-230b7a8a2efe",
   "metadata": {},
   "outputs": [],
   "source": [
    "#9\n",
    "list=[1,2,3,4,5,6]\n",
    "sum=0\n",
    "for i in list:\n",
    "    sum+=i\n",
    "avg=sum/len(list)\n",
    "print(f\"The average of the elements in the list is: {avg}\")"
   ]
  },
  {
   "cell_type": "code",
   "execution_count": null,
   "id": "e70e549a-1df5-4841-bacc-e7d9a3d8c76f",
   "metadata": {},
   "outputs": [],
   "source": [
    "#10\n",
    "def fib(n):\n",
    "    a=0\n",
    "    b=1\n",
    "    for i in range(n):\n",
    "        a,b=b,a+b\n",
    "    return a\n",
    "n=int(input(\"Enter the number of terms you want to print from the fibonacci series:\"))\n",
    "for i in range(n):\n",
    "    print(fib(i))"
   ]
  },
  {
   "cell_type": "code",
   "execution_count": null,
   "id": "1ea93b5b-ce32-4a06-999b-c8edae8210bc",
   "metadata": {},
   "outputs": [],
   "source": [
    "#11\n",
    "l1=[1,2,3,4,5,4,3,2,1]\n",
    "l2=[]\n",
    "for i in l1:\n",
    "    if i not in l2:\n",
    "        l2.append(i)\n",
    "if l2==l1:\n",
    "    print(\"The list do not contain repeated terms\")\n",
    "else:\n",
    "    print(\"The list contains repeated terms\")"
   ]
  },
  {
   "cell_type": "code",
   "execution_count": null,
   "id": "ce418ecf-385a-428f-96c4-fb675ea2e34b",
   "metadata": {},
   "outputs": [],
   "source": [
    "#12\n",
    "def isprime(n):\n",
    "    count=0\n",
    "    for i in range(2,n):\n",
    "        if n%i==0:\n",
    "            count+=1\n",
    "    if count>0:\n",
    "        return False\n",
    "    return True\n",
    "print(isprime(99))\n",
    "n1=int(input(\"Enter the number from where you want to print prime numbers:\"))\n",
    "n2=int(input(\"Enter the number till where you want to print prime numbers:\"))\n",
    "for i in range(n1,n2+1):\n",
    "    if isprime(i):\n",
    "        print(i)"
   ]
  },
  {
   "cell_type": "code",
   "execution_count": null,
   "id": "fceb1126-4600-4403-acc4-95d97764577a",
   "metadata": {},
   "outputs": [],
   "source": [
    "#13\n",
    "str=input(\"Enter a string:\")\n",
    "count=0\n",
    "for i in str.lower():\n",
    "    if i in \"aeiou\":\n",
    "        count+=1\n",
    "print(f\"The number of vowels in the string are: {count}\")"
   ]
  },
  {
   "cell_type": "code",
   "execution_count": null,
   "id": "9dd857c0-7299-4699-94a8-56f714d4a959",
   "metadata": {},
   "outputs": [],
   "source": [
    "#14\n",
    "l1=[[1,2,3,13,4,5,15],[3,4,14,5,6,7],[6,7,8,9,10],[9,10,11,12]]\n",
    "l2=[]\n",
    "for i in l1:\n",
    "    for j in i:\n",
    "        l2.append(j)\n",
    "print(f\"The maximum element in the above 2 dimensional array is {max(l2)}\")\n"
   ]
  },
  {
   "cell_type": "code",
   "execution_count": null,
   "id": "69bb21c9-cd6e-4828-bad4-433b55b2989f",
   "metadata": {},
   "outputs": [],
   "source": [
    "#15\n",
    "l=[1,2,3,4,1,2,5,6,7,8,1]\n",
    "n=int(input(\"Enter the element whose all occurences you want to remove:\"))\n",
    "for i in range(l.count(n)):\n",
    "    l.remove(n)\n",
    "print(l)"
   ]
  },
  {
   "cell_type": "code",
   "execution_count": null,
   "id": "5733eea8-65a8-4838-aae6-406e9f6314ed",
   "metadata": {},
   "outputs": [],
   "source": [
    "#16\n",
    "for i in range(1,6):\n",
    "    for j in range(1,11):\n",
    "        print(f\"{i}x{j}={i*j}\")\n",
    "    print()"
   ]
  },
  {
   "cell_type": "code",
   "execution_count": null,
   "id": "1b8535b5-b530-49aa-8aa3-b58bbe00157b",
   "metadata": {},
   "outputs": [],
   "source": [
    "#17\n",
    "def ftoc(fahrenheit):\n",
    "    return (fahrenheit-32)*5/9\n",
    "f=[32, 68, 212, 50, 104]\n",
    "c=[]\n",
    "for i in f:\n",
    "    c.append(ftoc(i))\n",
    "print(f\"The degree celcius list is as follows:\\n{c}\")"
   ]
  },
  {
   "cell_type": "code",
   "execution_count": null,
   "id": "108ccd6d-f7cf-448a-8943-4f6f944e80dd",
   "metadata": {},
   "outputs": [],
   "source": [
    "#18\n",
    "l1=[1,2,3,4,5]\n",
    "l2=[4,5,6,7,8]\n",
    "print(f\"The common elements in the list are:\")\n",
    "for i in l1:\n",
    "    if i in l2:\n",
    "        print(i)"
   ]
  },
  {
   "cell_type": "code",
   "execution_count": null,
   "id": "c59448b8-80cc-417a-a55e-86356a9ea9f8",
   "metadata": {},
   "outputs": [],
   "source": [
    "#19\n",
    "for i in range(5):\n",
    "    for j in range(i+1):\n",
    "        print(\"*\",end=\" \")\n",
    "    print()"
   ]
  },
  {
   "cell_type": "code",
   "execution_count": null,
   "id": "cc5efb4b-c00f-4b56-a5c5-85d347de4c89",
   "metadata": {},
   "outputs": [],
   "source": [
    "#20\n",
    "n1=int(input(\"Enter first number:\"))\n",
    "n2=int(input(\"Enter second number:\"))\n",
    "l=[]\n",
    "for i in range(1,n1+1):\n",
    "    if n1%i==0:\n",
    "        if n2%i==0:\n",
    "            l.append(i)\n",
    "print(f\"The GCD of the 2 numbers is:{max(l)}\")"
   ]
  },
  {
   "cell_type": "code",
   "execution_count": null,
   "id": "4587d761-e38d-4c37-9062-9ff60266e677",
   "metadata": {},
   "outputs": [],
   "source": [
    "#21\n",
    "l1=[11,22,33,44,55,66,77,88,99,100]\n",
    "def sum_of_digits(n):\n",
    "    sum=0\n",
    "    while n>0:\n",
    "        digit=n%10\n",
    "        sum+=digit\n",
    "        n//=10\n",
    "    return sum\n",
    "l=[sum_of_digits(i) for i in l1]\n",
    "print(l)"
   ]
  },
  {
   "cell_type": "code",
   "execution_count": null,
   "id": "aa03ea6b-6db7-426a-8643-817a8c44c189",
   "metadata": {},
   "outputs": [],
   "source": [
    "#22\n",
    "def is_prime(n):\n",
    "    count=0\n",
    "    for i in range(2,n):\n",
    "        if n%i==0:\n",
    "            count+=1\n",
    "    if count==0:\n",
    "        return True\n",
    "    return False\n",
    "n=int(input(\"Enter the number whose prime factors you want:\"))\n",
    "l=[i for i in range(2,n+1) if n%i==0 and is_prime(i)]\n",
    "print(l)"
   ]
  },
  {
   "cell_type": "code",
   "execution_count": null,
   "id": "9ba414a2-4df0-4493-afc1-19b47c02d703",
   "metadata": {},
   "outputs": [],
   "source": [
    "#23\n",
    "l1=[1,2,3,4,5,4,3,2,1]\n",
    "l2=[]\n",
    "l3=[i for i in l1 if l1.count(i)==1]\n",
    "print(l3)"
   ]
  },
  {
   "cell_type": "code",
   "execution_count": null,
   "id": "dddb5c06-db58-4f23-a331-f6d03e682189",
   "metadata": {},
   "outputs": [],
   "source": [
    "#24\n",
    "def ispallindromic(n):\n",
    "    rev=0\n",
    "    original_no=n\n",
    "    while n>0:\n",
    "        digit=n%10\n",
    "        n=n//10\n",
    "        rev=rev*10+digit\n",
    "    if original_no==rev:\n",
    "        return True\n",
    "    return False\n",
    "print(ispallindromic(11))\n",
    "n=int(input(\"Enter the number till which you want to print pallindromic numbers:\"))\n",
    "l=[i for i in range(n+1) if ispallindromic(i)]\n",
    "print(l)"
   ]
  },
  {
   "cell_type": "code",
   "execution_count": null,
   "id": "0151d489-ef30-4bd2-b8dd-f94655dc229d",
   "metadata": {},
   "outputs": [],
   "source": [
    "#25\n",
    "l1=[[1,2,3,4],[5,6,7],[8,9,10]]\n",
    "l2=[j for i in l1 for j in i]\n",
    "print(l2)"
   ]
  },
  {
   "cell_type": "code",
   "execution_count": null,
   "id": "7189686b-06dc-4163-81bf-7676be05900e",
   "metadata": {},
   "outputs": [],
   "source": [
    "#26\n",
    "l=[1,2,3,4,5,6,7,8,9,10]\n",
    "even=[i for i in l if i%2==0]\n",
    "odd=[i for i in l if i%2==1]\n",
    "print(f\"The sum of the even numbers is {sum(even)}\")\n",
    "print(f\"The sum of the odd numbers is {sum(odd)}\")"
   ]
  },
  {
   "cell_type": "code",
   "execution_count": null,
   "id": "10233160-c9cd-48b2-9997-a35b0e12b500",
   "metadata": {},
   "outputs": [],
   "source": [
    "#27\n",
    "l=[i**2 for i in range(1,11,2)]\n",
    "print(l)"
   ]
  },
  {
   "cell_type": "code",
   "execution_count": null,
   "id": "31d86b3b-a991-4a6a-a714-9919fd46c48d",
   "metadata": {},
   "outputs": [],
   "source": [
    "#28\n",
    "l1 = [1, 2, 3]\n",
    "l2 = ['a', 'b', 'c']\n",
    "dictionary=dict((key,value) for key,value in zip(l1,l2))\n",
    "print(dictionary)"
   ]
  },
  {
   "cell_type": "code",
   "execution_count": null,
   "id": "ae40c826-dee8-4aac-86d8-4b12088e57a0",
   "metadata": {},
   "outputs": [],
   "source": [
    "#29\n",
    "string=input(\"Enter a string:\")\n",
    "l=[i for i in string if i.lower() in \"aeiou\"]\n",
    "print(l)"
   ]
  },
  {
   "cell_type": "code",
   "execution_count": null,
   "id": "a2ebe90e-31ca-490b-a66b-784c55fb6fa7",
   "metadata": {},
   "outputs": [],
   "source": [
    "#30\n",
    "l1=['abc123','45def','1ghi','jklmno']\n",
    "l2=[(\"\".join(i for i in string if i.isdigit()))for string in l1]\n",
    "print(l2)"
   ]
  },
  {
   "cell_type": "code",
   "execution_count": null,
   "id": "5b2a519b-d580-4d35-a377-e25e810c4e94",
   "metadata": {},
   "outputs": [],
   "source": [
    "#31\n",
    "def erastosthenes(limit):\n",
    "    primes=[True]*(limit+1)\n",
    "    primes[0]=primes[1]=False\n",
    "    for i in range(limit+1):\n",
    "        if primes[i]:\n",
    "            for j in range(i*i,limit+1,i):\n",
    "                primes[j]=False\n",
    "    return [num for num,i in enumerate(primes) if primes[num]]\n",
    "print(erastosthenes(100))"
   ]
  },
  {
   "cell_type": "code",
   "execution_count": null,
   "id": "39e0b16c-0c65-423b-8950-09de3e2ec427",
   "metadata": {},
   "outputs": [],
   "source": [
    "#32\n",
    "def triplets(limit):\n",
    "    l=[]\n",
    "    for i in range(1,limit):\n",
    "        for j in range(1,limit):\n",
    "            for k in range(j,limit):\n",
    "                if i**2==j**2+k**2:\n",
    "                    l.append([j,k,i])\n",
    "    return l\n",
    "print(triplets(50))"
   ]
  },
  {
   "cell_type": "code",
   "execution_count": null,
   "id": "fcf7281e-7ea3-4ae4-99ee-064bcd269083",
   "metadata": {},
   "outputs": [],
   "source": [
    "#33\n",
    "l1=[1,2,3,4,5]\n",
    "l2=[6,7,8,9,10]\n",
    "l=[[i,j] for i in l1 for j in l2]\n",
    "print(\"The possible lists are:\")\n",
    "for i in l:\n",
    "    print(i)"
   ]
  },
  {
   "cell_type": "code",
   "execution_count": null,
   "id": "f4a5b5dd-4f9a-4d3c-9c56-bc822be2221e",
   "metadata": {},
   "outputs": [],
   "source": [
    "#34\n",
    "l1=[75,34,23,62,67,24,45,39,78,57,34,23,62,45]\n",
    "mean=sum(l1)/len(l1)\n",
    "print(mean)\n",
    "l2=sorted(l1)\n",
    "n=len(l2)\n",
    "median=[l2[n//2]] if n%2!=0 else [l2[n//2-1],l2[n//2]]\n",
    "print(median)\n",
    "modedict={num:l1.count(num) for num in l1}\n",
    "count=max(modedict.values())\n",
    "mode=[i for i,j in modedict.items() if j==count]\n",
    "print(mode)"
   ]
  },
  {
   "cell_type": "code",
   "execution_count": null,
   "id": "cd79c49b-dc45-4285-9e23-50b317c5942b",
   "metadata": {},
   "outputs": [],
   "source": [
    "#35\n",
    "def pascals_triangle(n):\n",
    "    a=[1]\n",
    "    b=[1,1]\n",
    "    if n==1:\n",
    "        print(a)\n",
    "    elif n==2:\n",
    "        print(a)\n",
    "        print(b)\n",
    "    else:\n",
    "        print(a)\n",
    "        print(b)\n",
    "        for i in range(3,n+1):\n",
    "            new_row =[1]\n",
    "            for j in range(1,i-1):\n",
    "                new_row.append(b[j-1]+b[j])\n",
    "            new_row.append(1)\n",
    "            b=new_row\n",
    "            print(new_row)\n",
    "pascals_triangle(5)"
   ]
  },
  {
   "cell_type": "code",
   "execution_count": null,
   "id": "c6ccc9a6-0b36-4c79-af19-ff97292b8e3f",
   "metadata": {},
   "outputs": [],
   "source": [
    "#36\n",
    "def factorial(n):\n",
    "    sum=0\n",
    "    fact=1\n",
    "    for i in range(1,n+1):\n",
    "        fact*=i\n",
    "    while fact>0:\n",
    "        digit=fact%10\n",
    "        fact//=10\n",
    "        sum+=digit\n",
    "    return sum\n",
    "l=[factorial(i) for i in range(1,6)]\n",
    "print(l)"
   ]
  },
  {
   "cell_type": "code",
   "execution_count": null,
   "id": "85467ccb-151b-4834-936e-a582eeb803e5",
   "metadata": {},
   "outputs": [],
   "source": [
    "#37\n",
    "string=input(\"Enter a string:\")\n",
    "l=max(string.split(),key=len)\n",
    "print(l)"
   ]
  },
  {
   "cell_type": "code",
   "execution_count": null,
   "id": "0e6bf293-fc4e-4392-a465-ccbe2bafcd2f",
   "metadata": {},
   "outputs": [],
   "source": [
    "#38\n",
    "my_list = ['mango', 'kiwi', 'strawberry', 'guava', 'pineapple', 'mandarin orange']\n",
    "l=[i for i in my_list if sum([1 for letter in i if letter.lower() in \"aeiuo\"])>3]\n",
    "print(l)"
   ]
  },
  {
   "cell_type": "code",
   "execution_count": null,
   "id": "971449af-970b-40c3-ab9e-509e51200242",
   "metadata": {},
   "outputs": [],
   "source": [
    "#39\n",
    "l=[sum(int(j) for j in str(i)) for i in range(1,1001)]\n",
    "print(l)"
   ]
  },
  {
   "cell_type": "code",
   "execution_count": null,
   "id": "4b7c6418-7442-44c4-9939-25094a6a18f3",
   "metadata": {},
   "outputs": [],
   "source": [
    "#40\n",
    "def isprime(n):\n",
    "    if n==0 or n==1:\n",
    "        return False\n",
    "    count=0\n",
    "    for i in range(2,n):\n",
    "        if n%i==0:\n",
    "            count+=1\n",
    "    if count==0:\n",
    "        return True\n",
    "    return False\n",
    "l=[i for i in range(1,1001) if isprime(i) if i==int(str(i)[-1::-1])]\n",
    "print(l)"
   ]
  }
 ],
 "metadata": {
  "kernelspec": {
   "display_name": "Python 3 (ipykernel)",
   "language": "python",
   "name": "python3"
  },
  "language_info": {
   "codemirror_mode": {
    "name": "ipython",
    "version": 3
   },
   "file_extension": ".py",
   "mimetype": "text/x-python",
   "name": "python",
   "nbconvert_exporter": "python",
   "pygments_lexer": "ipython3",
   "version": "3.10.8"
  }
 },
 "nbformat": 4,
 "nbformat_minor": 5
}
